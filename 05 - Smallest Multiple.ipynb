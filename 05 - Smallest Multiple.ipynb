{
 "cells": [
  {
   "cell_type": "code",
   "execution_count": 1,
   "metadata": {},
   "outputs": [],
   "source": [
    "#Function Calling\n",
    "import math\n",
    "import numpy as np\n",
    "import scipy as sc\n",
    "import matplotlib.pyplot as plt\n",
    "%matplotlib inline\n",
    "import pandas as pd"
   ]
  },
  {
   "cell_type": "code",
   "execution_count": 2,
   "metadata": {},
   "outputs": [],
   "source": [
    "#Prime Factorization\n",
    "def pf(n):\n",
    "    m=n\n",
    "    p=[]\n",
    "    j=2\n",
    "    for i in range(1,n+1):\n",
    "        if m%j==0:\n",
    "            p.append(j)\n",
    "            m=m/j\n",
    "            j=2\n",
    "        else:\n",
    "            j=j+1\n",
    "    return p"
   ]
  },
  {
   "cell_type": "code",
   "execution_count": 3,
   "metadata": {},
   "outputs": [],
   "source": [
    "#Listing the prime factors of numbers n and below\n",
    "def agfac(n):\n",
    "    af=[]\n",
    "    for i in range(2,n+1):\n",
    "        af.append(pf(i))\n",
    "    return af"
   ]
  },
  {
   "cell_type": "code",
   "execution_count": 4,
   "metadata": {},
   "outputs": [],
   "source": [
    "#counting the maximum number of occurance of a prime number\n",
    "def pc(n):\n",
    "    m=[]\n",
    "    a=agfac(n)\n",
    "    for i in range(2,n):\n",
    "        q=[]\n",
    "        for j in range(0,len(a)):\n",
    "            q.append(a[j].count(i))\n",
    "        m.append(max(q))\n",
    "    return m"
   ]
  },
  {
   "cell_type": "code",
   "execution_count": 5,
   "metadata": {},
   "outputs": [],
   "source": [
    "#Finding the smallest multiple\n",
    "def sm(n):\n",
    "    a=pc(n)\n",
    "    SM=1\n",
    "    for i in range(0,len(a)):\n",
    "        if a[i] !=0:\n",
    "            SM=SM*(i+2)**a[i]\n",
    "    return SM"
   ]
  },
  {
   "cell_type": "code",
   "execution_count": 6,
   "metadata": {},
   "outputs": [
    {
     "data": {
      "text/plain": [
       "232792560"
      ]
     },
     "execution_count": 6,
     "metadata": {},
     "output_type": "execute_result"
    }
   ],
   "source": [
    "#Execution\n",
    "sm(20)"
   ]
  },
  {
   "cell_type": "code",
   "execution_count": null,
   "metadata": {},
   "outputs": [],
   "source": []
  }
 ],
 "metadata": {
  "kernelspec": {
   "display_name": "Python 3",
   "language": "python",
   "name": "python3"
  },
  "language_info": {
   "codemirror_mode": {
    "name": "ipython",
    "version": 3
   },
   "file_extension": ".py",
   "mimetype": "text/x-python",
   "name": "python",
   "nbconvert_exporter": "python",
   "pygments_lexer": "ipython3",
   "version": "3.8.3"
  }
 },
 "nbformat": 4,
 "nbformat_minor": 4
}
