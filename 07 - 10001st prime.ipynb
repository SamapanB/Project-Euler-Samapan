{
 "cells": [
  {
   "cell_type": "code",
   "execution_count": 1,
   "metadata": {},
   "outputs": [],
   "source": [
    "#Function Calling\n",
    "import math\n",
    "import numpy as np\n",
    "import scipy as sc\n",
    "import matplotlib.pyplot as plt\n",
    "%matplotlib inline\n",
    "import pandas as pd"
   ]
  },
  {
   "cell_type": "code",
   "execution_count": 2,
   "metadata": {},
   "outputs": [],
   "source": [
    "#Prime Checker\n",
    "def pcheck(n):\n",
    "    q=0\n",
    "    for i in range(2,((n+2)//2)):\n",
    "        if n%i==0:\n",
    "            q=1\n",
    "            break\n",
    "        else:\n",
    "            q=0\n",
    "    if q==0:\n",
    "        return n\n",
    "    elif q==1:\n",
    "        return 0"
   ]
  },
  {
   "cell_type": "code",
   "execution_count": 3,
   "metadata": {},
   "outputs": [],
   "source": [
    "#List of Primes\n",
    "def primeList(n):\n",
    "    b=np.zeros(n)\n",
    "    i=2\n",
    "    j=0\n",
    "    while (b[n-1]<1):\n",
    "        if pcheck(i)!=0:\n",
    "            b[j]=i\n",
    "            i=i+1\n",
    "            j=j+1\n",
    "        else:\n",
    "            i=i+1\n",
    "    return b"
   ]
  },
  {
   "cell_type": "code",
   "execution_count": 4,
   "metadata": {},
   "outputs": [],
   "source": [
    "#Max Prime\n",
    "def MPrime(n):\n",
    "    return max(primeList(n))"
   ]
  },
  {
   "cell_type": "code",
   "execution_count": 5,
   "metadata": {},
   "outputs": [
    {
     "data": {
      "text/plain": [
       "104743.0"
      ]
     },
     "execution_count": 5,
     "metadata": {},
     "output_type": "execute_result"
    }
   ],
   "source": [
    "#Execution\n",
    "MPrime(10001)"
   ]
  }
 ],
 "metadata": {
  "kernelspec": {
   "display_name": "Python 3",
   "language": "python",
   "name": "python3"
  },
  "language_info": {
   "codemirror_mode": {
    "name": "ipython",
    "version": 3
   },
   "file_extension": ".py",
   "mimetype": "text/x-python",
   "name": "python",
   "nbconvert_exporter": "python",
   "pygments_lexer": "ipython3",
   "version": "3.8.3"
  }
 },
 "nbformat": 4,
 "nbformat_minor": 4
}
