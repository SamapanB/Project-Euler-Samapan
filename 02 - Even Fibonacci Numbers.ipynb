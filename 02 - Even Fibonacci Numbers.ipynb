{
 "cells": [
  {
   "cell_type": "code",
   "execution_count": 1,
   "metadata": {},
   "outputs": [],
   "source": [
    "import math\n",
    "import numpy as np\n",
    "import scipy as sc\n",
    "import matplotlib.pyplot as plt\n",
    "%matplotlib inline"
   ]
  },
  {
   "cell_type": "code",
   "execution_count": 2,
   "metadata": {},
   "outputs": [
    {
     "data": {
      "text/plain": [
       "4613732.0"
      ]
     },
     "execution_count": 2,
     "metadata": {},
     "output_type": "execute_result"
    }
   ],
   "source": [
    "def fib(M):\n",
    "    s=[1,2]\n",
    "    a=np.zeros(M)\n",
    "    a[0]=1\n",
    "    a[1]=2\n",
    "    for i in range(2,M):\n",
    "        a[i]=a[i-1]+a[i-2]\n",
    "        s.append(a[i])\n",
    "        if a[i]>=M:\n",
    "            break\n",
    "    return s\n",
    "\n",
    "def fes(M):\n",
    "    Ser=fib(M)\n",
    "    Sum=0\n",
    "    for i in range(0,len(Ser)-1):\n",
    "        if Ser[i]%2==0:\n",
    "            Sum=Sum+Ser[i]\n",
    "    return Sum\n",
    "\n",
    "fes(4000000)"
   ]
  }
 ],
 "metadata": {
  "kernelspec": {
   "display_name": "Python 3",
   "language": "python",
   "name": "python3"
  },
  "language_info": {
   "codemirror_mode": {
    "name": "ipython",
    "version": 3
   },
   "file_extension": ".py",
   "mimetype": "text/x-python",
   "name": "python",
   "nbconvert_exporter": "python",
   "pygments_lexer": "ipython3",
   "version": "3.8.3"
  }
 },
 "nbformat": 4,
 "nbformat_minor": 4
}
