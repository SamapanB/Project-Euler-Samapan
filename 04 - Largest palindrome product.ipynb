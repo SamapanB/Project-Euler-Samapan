{
 "cells": [
  {
   "cell_type": "code",
   "execution_count": 1,
   "metadata": {},
   "outputs": [],
   "source": [
    "import math\n",
    "import numpy as np\n",
    "import scipy as sc\n",
    "import matplotlib.pyplot as plt\n",
    "%matplotlib inline"
   ]
  },
  {
   "cell_type": "code",
   "execution_count": 2,
   "metadata": {},
   "outputs": [],
   "source": [
    "def palincheck(N):\n",
    "    a=[]\n",
    "    check=[]\n",
    "    q=9\n",
    "    num=str(N)\n",
    "    l=len(num)\n",
    "    for i in range(0,l):\n",
    "        a.append(num[i])\n",
    "    if l%2==0:\n",
    "        for i in range(0,l//2):\n",
    "            if a[i]==a[l-i-1]:\n",
    "                check.append(1)\n",
    "            else:\n",
    "                check.append(0)\n",
    "    else:\n",
    "        for i in range(0,(l-1)//2):\n",
    "            if a[i]==a[l-i-1]:\n",
    "                check.append(1)\n",
    "            else:\n",
    "                check.append(0)\n",
    "    for i in range(0,len(check)):\n",
    "        if check[i]==1:\n",
    "            q=1\n",
    "        elif check[i]==0:\n",
    "            q=0\n",
    "            break\n",
    "    return q"
   ]
  },
  {
   "cell_type": "code",
   "execution_count": 3,
   "metadata": {},
   "outputs": [
    {
     "name": "stdout",
     "output_type": "stream",
     "text": [
      "(993, 913) 906609\n",
      "(913, 993) 906609\n"
     ]
    }
   ],
   "source": [
    "def palinout(M):\n",
    "    palinvault=[]\n",
    "    palinpair=[]\n",
    "    for i in range(M,10,-1):\n",
    "        for j in range(M,10,-1):\n",
    "            if palincheck(i*j)==1:\n",
    "                palinpair.append((i,j))\n",
    "                palinvault.append(i*j)\n",
    "    max(palinvault)\n",
    "    for i in range(0,len(palinvault)):\n",
    "        if palinvault[i]==max(palinvault):\n",
    "            print(palinpair[i],palinvault[i])\n",
    "\n",
    "palinout(999)"
   ]
  },
  {
   "cell_type": "code",
   "execution_count": null,
   "metadata": {},
   "outputs": [],
   "source": []
  }
 ],
 "metadata": {
  "kernelspec": {
   "display_name": "Python 3",
   "language": "python",
   "name": "python3"
  },
  "language_info": {
   "codemirror_mode": {
    "name": "ipython",
    "version": 3
   },
   "file_extension": ".py",
   "mimetype": "text/x-python",
   "name": "python",
   "nbconvert_exporter": "python",
   "pygments_lexer": "ipython3",
   "version": "3.8.3"
  }
 },
 "nbformat": 4,
 "nbformat_minor": 4
}
